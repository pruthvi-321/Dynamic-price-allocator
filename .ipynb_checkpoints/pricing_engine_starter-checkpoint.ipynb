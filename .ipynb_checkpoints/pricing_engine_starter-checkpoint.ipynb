{
 "cells": [
  {
   "cell_type": "markdown",
   "id": "5ab537a0",
   "metadata": {},
   "source": [
    "# E-commerce Pricing Assistant — Step-by-Step Build\n",
    "Run each section; debug before moving on."
   ]
  },
  {
   "cell_type": "markdown",
   "id": "74bc5008",
   "metadata": {},
   "source": [
    "## Step 0 — Environment check"
   ]
  },
  {
   "cell_type": "code",
   "execution_count": null,
   "id": "617c1678",
   "metadata": {},
   "outputs": [],
   "source": [
    "\n",
    "import sys, platform, pandas as pd, numpy as np\n",
    "print(\"Python:\", sys.version)\n",
    "print(\"Platform:\", platform.platform())\n",
    "print(\"Pandas:\", pd.__version__)\n",
    "print(\"Numpy:\", np.__version__)\n"
   ]
  },
  {
   "cell_type": "markdown",
   "id": "7136bb32",
   "metadata": {},
   "source": [
    "## Step 1 — Folders & constants"
   ]
  },
  {
   "cell_type": "code",
   "execution_count": null,
   "id": "04e8c06b",
   "metadata": {},
   "outputs": [],
   "source": [
    "\n",
    "from pathlib import Path\n",
    "BASE_DIR = Path.cwd()\n",
    "RUNS_DIR = BASE_DIR / \"runs\"\n",
    "RUNS_DIR.mkdir(exist_ok=True, parents=True)\n",
    "\n",
    "LEGIT_THRESHOLD = 60\n",
    "TOP_N_FOR_ENVELOPE = 3\n",
    "print(\"BASE_DIR:\", BASE_DIR)\n"
   ]
  },
  {
   "cell_type": "markdown",
   "id": "9242a968",
   "metadata": {},
   "source": [
    "## Step 2 — User input (edit me per product)"
   ]
  },
  {
   "cell_type": "code",
   "execution_count": null,
   "id": "20738062",
   "metadata": {},
   "outputs": [],
   "source": [
    "\n",
    "user_input = dict(\n",
    "    product_id=\"SKU123\",\n",
    "    product_name=\"Dettol Liquid Handwash Refill 750ml\",\n",
    "    brand=\"Dettol\",\n",
    "    location=\"Bidar, KA, IN\",\n",
    "    cost_price=92.0,\n",
    "    min_margin_pct=15,\n",
    "    target_position=\"within_top3\",  # match_lowest | beat_lowest_by_pct | within_top3 | margin_first\n",
    "    beat_pct=2.0,\n",
    "    channels_to_consider=[\"amazon\",\"flipkart\",\"dmart\",\"bigbasket\",\"local\"],\n",
    "    tax_rate_pct=18,\n",
    "    shipping_policy={\"base\": 0.0, \"cod_fee\": 0.0, \"free_threshold\": 0.0},\n",
    "    competitor_blacklist=[],\n",
    "    competitor_whitelist=[],\n",
    "    currency=\"INR\"\n",
    ")\n",
    "user_input\n"
   ]
  },
  {
   "cell_type": "markdown",
   "id": "9938924b",
   "metadata": {},
   "source": [
    "## Step 3 — Helpers: margin floor, rounding"
   ]
  },
  {
   "cell_type": "code",
   "execution_count": null,
   "id": "08047421",
   "metadata": {},
   "outputs": [],
   "source": [
    "\n",
    "from datetime import datetime\n",
    "\n",
    "def margin_floor(cost_price: float, min_margin_pct: float) -> float:\n",
    "    return cost_price * (1 + min_margin_pct/100.0)\n",
    "\n",
    "def psychological_round(price: float) -> float:\n",
    "    p = round(price)\n",
    "    return float(p-1) if p >= 100 else float(p)\n",
    "\n",
    "def now_iso(): return datetime.utcnow().isoformat()\n"
   ]
  },
  {
   "cell_type": "markdown",
   "id": "725f15d3",
   "metadata": {},
   "source": [
    "## Step 4 — Legitimacy scoring (simple heuristic)"
   ]
  },
  {
   "cell_type": "code",
   "execution_count": null,
   "id": "c7427c43",
   "metadata": {},
   "outputs": [],
   "source": [
    "\n",
    "def score_legitimacy(row) -> int:\n",
    "    score = 0\n",
    "    if str(row.get(\"source\",\"\")).lower() in {\"amazon\",\"flipkart\",\"bigbasket\",\"reliance\",\"dmart\"}:\n",
    "        score += 20\n",
    "    if row.get(\"https\", True): score += 5\n",
    "    age = row.get(\"domain_age_years\", 0) or 0\n",
    "    if age >= 1: score += 10\n",
    "    if age >= 5: score += 5\n",
    "    rating = row.get(\"rating\", None); rating_count = row.get(\"rating_count\", 0) or 0\n",
    "    if rating is not None and rating_count:\n",
    "        if rating >= 4.0 and rating_count >= 100: score += 10\n",
    "        elif rating >= 3.5 and rating_count >= 20: score += 5\n",
    "    if row.get(\"has_policy_pages\", True): score += 5\n",
    "    if row.get(\"in_stock\", False): score += 10\n",
    "    return int(score)\n"
   ]
  },
  {
   "cell_type": "markdown",
   "id": "362aaa1b",
   "metadata": {},
   "source": [
    "## Step 5 — Delivery reach checker (placeholder)"
   ]
  },
  {
   "cell_type": "code",
   "execution_count": null,
   "id": "aca123fd",
   "metadata": {},
   "outputs": [],
   "source": [
    "\n",
    "def check_delivery(source: str, location: str, pincode: str = \"\") -> bool:\n",
    "    s = (source or \"\").lower()\n",
    "    if \"dmart\" in s and \"bidar\" in (location or \"\").lower():\n",
    "        return False\n",
    "    return True\n"
   ]
  },
  {
   "cell_type": "markdown",
   "id": "e2f5b8cc",
   "metadata": {},
   "source": [
    "## Step 6 — Comparable price"
   ]
  },
  {
   "cell_type": "code",
   "execution_count": null,
   "id": "3cce2bca",
   "metadata": {},
   "outputs": [],
   "source": [
    "\n",
    "def comparable_price(row) -> float:\n",
    "    base = float(row.get(\"base_price\", 0) or 0)\n",
    "    shipping = float(row.get(\"shipping_fee\", 0) or 0)\n",
    "    cod = float(row.get(\"cod_fee\", 0) or 0)\n",
    "    coupon = float(row.get(\"coupon_value\", 0) or 0)\n",
    "    return max(base + shipping + cod - coupon, 0.0)\n"
   ]
  },
  {
   "cell_type": "markdown",
   "id": "e2d3bdc7",
   "metadata": {},
   "source": [
    "## Step 7 — Pricing engine core"
   ]
  },
  {
   "cell_type": "code",
   "execution_count": null,
   "id": "dd217699",
   "metadata": {},
   "outputs": [],
   "source": [
    "\n",
    "import pandas as pd\n",
    "SMALL_DELTA = 1.0\n",
    "\n",
    "def choose_price(offers: pd.DataFrame, inp: dict, LEGIT_THRESHOLD=60, TOP_N_FOR_ENVELOPE=3) -> dict:\n",
    "    mfloor = margin_floor(inp[\"cost_price\"], inp[\"min_margin_pct\"])\n",
    "    eligible = offers[(offers[\"delivers_to_location\"]==True) & (offers[\"legitimacy_score\"]>=LEGIT_THRESHOLD) & (offers[\"in_stock\"]==True)].copy()\n",
    "    notes = []\n",
    "    if eligible.empty:\n",
    "        rec = psychological_round(max(mfloor, inp[\"cost_price\"]))\n",
    "        notes.append(\"No eligible competitor anchors; used margin floor / cost.\")\n",
    "        return dict(recommended_price=rec, margin_floor=mfloor, notes=notes, anchors=[])\n",
    "    ps = sorted(eligible[\"comparable_price\"].tolist())\n",
    "    P_lowest = ps[0]; P_top3 = ps[min(len(ps)-1, TOP_N_FOR_ENVELOPE-1)]\n",
    "    tp = inp.get(\"target_position\",\"within_top3\")\n",
    "    if tp==\"match_lowest\":\n",
    "        candidate = max(mfloor, P_lowest); notes.append(\"Strategy: match_lowest\")\n",
    "    elif tp==\"beat_lowest_by_pct\":\n",
    "        beat_pct = float(inp.get(\"beat_pct\",1.0))\n",
    "        candidate = max(mfloor, P_lowest*(1-beat_pct/100.0)); notes.append(f\"Strategy: beat_lowest_by_pct ({beat_pct}%)\")\n",
    "    elif tp==\"within_top3\":\n",
    "        candidate = max(mfloor, P_top3); notes.append(\"Strategy: within_top3 (upper bound)\")\n",
    "    else:\n",
    "        candidate = max(mfloor, min(P_lowest + SMALL_DELTA, P_top3)); notes.append(\"Strategy: margin_first\")\n",
    "    rec = psychological_round(candidate)\n",
    "    anchors = eligible.sort_values(\"comparable_price\")[[\"source\",\"comparable_price\",\"url\"]].to_dict(orient=\"records\")\n",
    "    return dict(recommended_price=rec, margin_floor=mfloor, P_lowest=P_lowest, P_top3=P_top3, notes=notes, anchors=anchors)\n"
   ]
  },
  {
   "cell_type": "markdown",
   "id": "29e1e05c",
   "metadata": {},
   "source": [
    "## Step 8 — Dry run using sample_offers.csv"
   ]
  },
  {
   "cell_type": "code",
   "execution_count": null,
   "id": "1585b637",
   "metadata": {},
   "outputs": [],
   "source": [
    "\n",
    "import pandas as pd, json\n",
    "offers = pd.read_csv(\"sample_offers.csv\")\n",
    "offers[\"delivers_to_location\"] = offers.apply(lambda r: check_delivery(r[\"source\"], user_input[\"location\"], r.get(\"pincode\",\"\")), axis=1)\n",
    "offers[\"legitimacy_score\"] = offers.apply(score_legitimacy, axis=1)\n",
    "offers[\"comparable_price\"] = offers.apply(comparable_price, axis=1)\n",
    "display(offers)\n",
    "\n",
    "result = choose_price(offers, user_input, LEGIT_THRESHOLD=LEGIT_THRESHOLD, TOP_N_FOR_ENVELOPE=TOP_N_FOR_ENVELOPE)\n",
    "print(json.dumps(result, indent=2))\n",
    "from pathlib import Path\n",
    "run_dir = Path(\"runs\")/user_input[\"product_id\"]; run_dir.mkdir(exist_ok=True, parents=True)\n",
    "offers.to_csv(run_dir/f\"{user_input['product_id']}_offers.csv\", index=False)\n",
    "(run_dir/f\"{user_input['product_id']}_decision.json\").write_text(json.dumps(result, indent=2), encoding=\"utf-8\")\n",
    "print(\"Saved in:\", run_dir)\n"
   ]
  },
  {
   "cell_type": "markdown",
   "id": "e7abce1a",
   "metadata": {},
   "source": [
    "## Step 9 — Fetcher stubs (to fill later)"
   ]
  },
  {
   "cell_type": "code",
   "execution_count": null,
   "id": "c07c8a59",
   "metadata": {},
   "outputs": [],
   "source": [
    "\n",
    "import pandas as pd\n",
    "def fetch_amazon_offers(query: str, brand: str|None=None) -> pd.DataFrame: return pd.DataFrame()\n",
    "def fetch_flipkart_offers(query: str, brand: str|None=None) -> pd.DataFrame: return pd.DataFrame()\n",
    "def fetch_dmart_offers(query: str, brand: str|None=None) -> pd.DataFrame: return pd.DataFrame()\n",
    "CHANNEL_FETCHERS = {\"amazon\":fetch_amazon_offers,\"flipkart\":fetch_flipkart_offers,\"dmart\":fetch_dmart_offers}\n"
   ]
  },
  {
   "cell_type": "markdown",
   "id": "d99a6833",
   "metadata": {},
   "source": [
    "## Step 10 — Pipeline function"
   ]
  },
  {
   "cell_type": "code",
   "execution_count": null,
   "id": "07eaf50c",
   "metadata": {},
   "outputs": [],
   "source": [
    "\n",
    "def run_pipeline(inp: dict, local_csv: str|None=None):\n",
    "    frames = []\n",
    "    for ch in inp[\"channels_to_consider\"]:\n",
    "        f = CHANNEL_FETCHERS.get(ch)\n",
    "        if f is not None:\n",
    "            try:\n",
    "                df = f(inp[\"product_name\"], inp.get(\"brand\"))\n",
    "                if df is not None and not df.empty: frames.append(df)\n",
    "            except Exception as e:\n",
    "                print(f\"[WARN] fetch {ch}: {e}\")\n",
    "    if local_csv:\n",
    "        try:\n",
    "            import pandas as pd\n",
    "            frames.append(pd.read_csv(local_csv))\n",
    "        except Exception as e:\n",
    "            print(\"[WARN] could not read local_csv:\", e)\n",
    "    import pandas as pd\n",
    "    offers = pd.concat(frames, ignore_index=True) if frames else pd.DataFrame(columns=[\"source\",\"product_title\",\"base_price\",\"shipping_fee\",\"cod_fee\",\"coupon_value\",\"in_stock\",\"url\",\"timestamp\",\"pincode\",\"rating\",\"rating_count\",\"https\",\"domain_age_years\",\"has_policy_pages\"])\n",
    "    offers[\"delivers_to_location\"] = offers.apply(lambda r: check_delivery(r.get(\"source\",\"\"), inp[\"location\"], r.get(\"pincode\",\"\")), axis=1)\n",
    "    offers[\"legitimacy_score\"] = offers.apply(score_legitimacy, axis=1)\n",
    "    offers[\"comparable_price\"] = offers.apply(comparable_price, axis=1)\n",
    "    decision = choose_price(offers, inp)\n",
    "    return {\"offers\": offers, \"decision\": decision}\n"
   ]
  },
  {
   "cell_type": "markdown",
   "id": "e62d6002",
   "metadata": {},
   "source": [
    "## Step 11 — End-to-end test (using the local CSV)"
   ]
  },
  {
   "cell_type": "code",
   "execution_count": null,
   "id": "dcba5454",
   "metadata": {},
   "outputs": [],
   "source": [
    "\n",
    "out = run_pipeline(user_input, local_csv=\"sample_offers.csv\")\n",
    "display(out[\"offers\"])\n",
    "import json; print(\"\\nDecision:\"); print(json.dumps(out[\"decision\"], indent=2))\n"
   ]
  }
 ],
 "metadata": {},
 "nbformat": 4,
 "nbformat_minor": 5
}
